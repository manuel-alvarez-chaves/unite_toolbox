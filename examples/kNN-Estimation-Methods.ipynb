{
 "cells": [
  {
   "cell_type": "markdown",
   "id": "273de066",
   "metadata": {},
   "source": [
    "# Tutorial: $k$-NN for Information Theory\n",
    "## Introduction\n",
    "In this tutorial we show some basic usage of the **UNITE** toolbox to calculate entropy $H(X)$, mutual information $I(X; Y)$ and Kullback-Leibler (KL) divergence $D_{KL}(p||q)$ using $k$-nearest neighbours ($k$-NN) based methods."
   ]
  },
  {
   "cell_type": "markdown",
   "id": "6dc03365",
   "metadata": {},
   "source": [
    "## The Data\n",
    "First we need to generate samples of a specific distribution from which there are known results for entropy, mutual information and KL divergence, or they can be calculated through numerical integration, for example. For this tutorial we'll use a specific variation of the Gamma-Exponential distribution which is a 2D distribution which has the following probability density function (PDF):\n",
    "$$\n",
    "    p(x_1, x_2) = \\frac{x_{1}^\\theta e^{-x_{1} - x_{1} \\cdot x_{2}}}{\\Gamma\\left ( \\theta \\right )}\n",
    "$$\n",
    "For this simple 2D case, the **UNITE** toolbox has auxiliary functions to generate samples through rejection sampling. We only need to define the PDF of the function we want to sample and the ranges in which to samples. So let's define it:"
   ]
  },
  {
   "cell_type": "code",
   "execution_count": 1,
   "id": "a2f52cc4",
   "metadata": {},
   "outputs": [],
   "source": [
    "import numpy as np\n",
    "from scipy.special import gamma\n",
    "\n",
    "\n",
    "def pdf_gamma_exponential(x, y, params):\n",
    "    p = 0.0\n",
    "    for dist in params:\n",
    "        t, w = dist\n",
    "        p += (1 / gamma(t)) * (x**t) * np.exp(-x - x * y) * w\n",
    "    return p\n",
    "\n",
    "\n",
    "gexp1_params = [\n",
    "    [3, 1]\n",
    "]  # list of lists. The inner lists contain the specific parameters of the distribution\n",
    "# and the last element of each list is a weight if the distribution is a mixture.\n",
    "\n",
    "gexp_lims = [[0, 15], [0, 12]]  # lower and upper limits for each dimension x_1 and x_2"
   ]
  },
  {
   "cell_type": "markdown",
   "id": "a6c5cd30",
   "metadata": {},
   "source": [
    "Having defined our PDF correctly, now we generate $1\\,000$ samples of the Gamma-Exponential distribution using the UNITE toolbox. As said in the comment for the parameters, for this samples we will use $\\theta = 3$."
   ]
  },
  {
   "cell_type": "code",
   "execution_count": 2,
   "id": "ad7b17ed",
   "metadata": {},
   "outputs": [],
   "source": [
    "from unite_toolbox.utils.sampling import get_samples\n",
    "\n",
    "samples1 = get_samples(\n",
    "    func=pdf_gamma_exponential,\n",
    "    limits=gexp_lims,\n",
    "    n_samples=1_000,\n",
    "    seed=42,\n",
    "    params=gexp1_params,\n",
    ")"
   ]
  },
  {
   "cell_type": "markdown",
   "id": "54fa1d41",
   "metadata": {},
   "source": [
    "That's it! Now we have 1 000 samples to test the $k$-NN based methods. Before we do that, let's double check our samples by plotting the result."
   ]
  },
  {
   "cell_type": "code",
   "execution_count": 3,
   "id": "16529e22",
   "metadata": {},
   "outputs": [
    {
     "data": {
      "image/png": "[encoded data removed]",
      "text/plain": [
       "<Figure size 300x300 with 1 Axes>"
      ]
     },
     "metadata": {},
     "output_type": "display_data"
    }
   ],
   "source": [
    "import matplotlib.pyplot as plt\n",
    "\n",
    "x = np.linspace(gexp_lims[0][0], gexp_lims[0][1], 1_000)\n",
    "y = np.linspace(gexp_lims[1][0], gexp_lims[1][1], 1_000)\n",
    "X, Y = np.meshgrid(x, y)\n",
    "P = pdf_gamma_exponential(X, Y, gexp1_params)\n",
    "\n",
    "fig, ax = plt.subplots(figsize=(3, 3))\n",
    "ax.contourf(X, Y, P, cmap=\"Greys\")\n",
    "ax.scatter(samples1[:, 0], samples1[:, 1], c=\"tab:red\", s=0.30)\n",
    "ax.set_xlabel(\"$x_1$\")\n",
    "ax.set_xlim([0, 8])\n",
    "ax.set_ylabel(\"$x_2$\")\n",
    "ax.set_ylim([0, 1])\n",
    "plt.show()"
   ]
  },
  {
   "cell_type": "markdown",
   "id": "fd598a61",
   "metadata": {},
   "source": [
    "Looks good! The underlying distribution is colored in black and white and our samples, in red, look clustered around the darker region which represents higher density. Now we'll test the estimators on these samples.\n",
    "\n",
    "## $k$-NN Estimation\n",
    "### Entropy $H(X)$\n",
    "\n",
    "The entropy of the Gamma-Exponential distribution is given by the following equation:\n",
    "\n",
    "$$\n",
    "    H(X_1, X_2) = 1 + \\theta - \\theta \\cdot\\ \\psi\\left ( \\theta \\right ) + \\log\\Gamma\\left ( \\theta \\right ) - \\log\\left ( 1 \\right )\n",
    "$$\n",
    "\n",
    "And for the samples we generated previously we know that $\\theta=3$. Now let's test the estimator:"
   ]
  },
  {
   "cell_type": "code",
   "execution_count": 4,
   "id": "e1d7120f",
   "metadata": {},
   "outputs": [
    {
     "name": "stdout",
     "output_type": "stream",
     "text": [
      "True entropy: 1.925 nats\n",
      "Est. entropy: 1.942 nats\n",
      "Relative error: 0.88%\n"
     ]
    }
   ],
   "source": [
    "from scipy.special import digamma\n",
    "from unite_toolbox.knn_estimators import calc_knn_entropy\n",
    "\n",
    "theta1 = gexp1_params[0][0]\n",
    "true_h = 1 + theta1 - theta1 * digamma(theta1) + np.log(gamma(theta1))\n",
    "est_h = calc_knn_entropy(samples1)\n",
    "\n",
    "print(f\"True entropy: {true_h:.3f} nats\")\n",
    "print(f\"Est. entropy: {est_h:.3f} nats\")\n",
    "print(f\"Relative error: {(est_h - true_h)/true_h:.2%}\")"
   ]
  },
  {
   "cell_type": "markdown",
   "id": "0c6fc35d",
   "metadata": {},
   "source": [
    "From only 1 000 samples we get a result very close to the true solution. $k$-NN based methods are great!\n",
    "\n",
    "When passing data to a function one must be careful about the dimensions. **UNITE** functions work on 2D arrays where the first dimension (rows) are the individual samples and the second dimension (columns) are the dimensions ($x_1$ and $x_2$ in our example)."
   ]
  },
  {
   "cell_type": "markdown",
   "id": "45b08216",
   "metadata": {},
   "source": [
    "### Mutual Information $I(X; Y)$\n",
    "Again, this particular distribution has a solution for mutual information between $X_1$ and $X_2$:\n",
    "$$\n",
    "    I(X_1; X_2) =  \\psi(\\theta) - \\log(\\theta) + \\frac{1}{\\theta}\n",
    "$$\n",
    "\n",
    "So, as before:"
   ]
  },
  {
   "cell_type": "code",
   "execution_count": 5,
   "id": "2a3779df",
   "metadata": {},
   "outputs": [
    {
     "name": "stdout",
     "output_type": "stream",
     "text": [
      "True mutual information: 0.158 nats\n",
      "Est. mutual information: 0.077 nats\n",
      "Relative error: -51.16%\n"
     ]
    }
   ],
   "source": [
    "from unite_toolbox.knn_estimators import calc_knn_mutual_information\n",
    "\n",
    "true_mi = digamma(theta1) - np.log(theta1) + 1 / theta1\n",
    "est_mi = calc_knn_mutual_information(\n",
    "    samples1[:, 0].reshape(-1, 1), samples1[:, 1].reshape(-1, 1), k=5\n",
    ")\n",
    "\n",
    "print(f\"True mutual information: {true_mi:.3f} nats\")\n",
    "print(f\"Est. mutual information: {est_mi:.3f} nats\")\n",
    "print(f\"Relative error: {(est_mi - true_mi)/true_mi:.2%}\")"
   ]
  },
  {
   "cell_type": "markdown",
   "id": "816fa989",
   "metadata": {},
   "source": [
    "Here we underestimate the true result, but the estimate only improves with the number of samples\n",
    "\n",
    "We also had to be a bit more careful in how we passed the data to the function. The function for mutual information receives two arrays so we had to separate and reshape our samples accordingly.\n",
    "\n",
    "### Kullback-Leibler divergence $D_{KL}(p||q)$"
   ]
  },
  {
   "cell_type": "markdown",
   "id": "cfa81d9a",
   "metadata": {},
   "source": [
    "Here we need to generate samples from a second distribution $q(x_1, x_2)$. We'll do it as before but this second distribution will have $\\theta = 4$. Another nice property of the KL divergence is that the number of samples in $p$ and $q$ don't have to be the same, so we'll generate 2 500 samples for $q$."
   ]
  },
  {
   "cell_type": "code",
   "execution_count": 6,
   "id": "fe8ae516",
   "metadata": {},
   "outputs": [],
   "source": [
    "gexp2_params = [[4, 1]]\n",
    "samples2 = get_samples(\n",
    "    func=pdf_gamma_exponential,\n",
    "    limits=gexp_lims,\n",
    "    n_samples=2_500,\n",
    "    seed=42,\n",
    "    params=gexp2_params,\n",
    ")"
   ]
  },
  {
   "cell_type": "markdown",
   "id": "e50a7014",
   "metadata": {},
   "source": [
    "Unfortunately we have found no reference in literature for a true solution of KL divergence between Gamma-Exponential distributions so, in this case, we'll use numerical integration to get a \"true\" solution. This process is relatively easy, so we'll not go into a lot of detail. Please see the documentation for `nquad` from `scipy.integrate` for more details."
   ]
  },
  {
   "cell_type": "code",
   "execution_count": 7,
   "id": "c7adefd6",
   "metadata": {},
   "outputs": [],
   "source": [
    "from scipy.integrate import nquad\n",
    "\n",
    "\n",
    "def kld_gamma_exponentials(x, y, params1, params2):\n",
    "    p = pdf_gamma_exponential(x, y, params1)\n",
    "    q = pdf_gamma_exponential(x, y, params2)\n",
    "    return p * np.log(p / q)\n",
    "\n",
    "\n",
    "true_kld = nquad(\n",
    "    kld_gamma_exponentials,\n",
    "    gexp_lims,\n",
    "    args=(\n",
    "        gexp1_params,\n",
    "        gexp2_params,\n",
    "    ),\n",
    ")\n",
    "true_kld = true_kld[0]"
   ]
  },
  {
   "cell_type": "markdown",
   "id": "2ef95f48",
   "metadata": {},
   "source": [
    "Now let's calculate KL divergence from the samples and compare to our reference solution."
   ]
  },
  {
   "cell_type": "code",
   "execution_count": 8,
   "id": "92816463",
   "metadata": {},
   "outputs": [
    {
     "name": "stdout",
     "output_type": "stream",
     "text": [
      "True KLD: 0.175 nats\n",
      "Est. KLD: 0.149 nats\n",
      "Relative error: -14.63%\n"
     ]
    }
   ],
   "source": [
    "from unite_toolbox.knn_estimators import calc_knn_kld\n",
    "\n",
    "est_kld = calc_knn_kld(samples1, samples2, k=1)\n",
    "\n",
    "print(f\"True KLD: {true_kld:.3f} nats\")\n",
    "print(f\"Est. KLD: {est_kld:.3f} nats\")\n",
    "print(f\"Relative error: {(est_kld - true_kld)/true_kld:.2%}\")"
   ]
  },
  {
   "cell_type": "markdown",
   "id": "d3c22bea",
   "metadata": {},
   "source": [
    "Here, again, we underestimate a bit, but the result is close to the reference solution.\n",
    "\n",
    "This brief tutorial went over the $k$-NN based methods available in the UNITE toolbox but KDE and bin based estimation work very similarly."
   ]
  }
 ],
 "metadata": {
  "kernelspec": {
   "display_name": "Python 3 (ipykernel)",
   "language": "python",
   "name": "python3"
  },
  "language_info": {
   "codemirror_mode": {
    "name": "ipython",
    "version": 3
   },
   "file_extension": ".py",
   "mimetype": "text/x-python",
   "name": "python",
   "nbconvert_exporter": "python",
   "pygments_lexer": "ipython3",
   "version": "3.10.12"
  }
 },
 "nbformat": 4,
 "nbformat_minor": 5
}
