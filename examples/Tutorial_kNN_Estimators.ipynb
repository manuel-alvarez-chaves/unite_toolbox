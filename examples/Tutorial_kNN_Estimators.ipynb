{
 "cells": [
  {
   "cell_type": "markdown",
   "id": "273de066",
   "metadata": {},
   "source": [
    "# Tutorial: $k$NN for Information Theory\n",
    "## Introduction\n",
    "In this tutorial we show some basic usage of the UNITE toolbox to calculate entropy $H(X)$, mutual information $I(X; Y)$ and Kullback-Leibler (KL) divergence $D_{KL}(p||q)$ using k-nearest neighbours based methods."
   ]
  },
  {
   "cell_type": "markdown",
   "id": "6dc03365",
   "metadata": {},
   "source": [
    "## The Data\n",
    "First we need to generate samples of a specific distribution from which there are known results for entropy, mutual information and KL divergence, or they can be calculated through numerical integration, for example. For this tutorial we we'll use the Gamma-Exponential distribution which is a 2D distribution which has the following probability density function (PDF):\n",
    "$$\n",
    "    p(x_1, x_2) = \\frac{x_{1}^\\theta e^{-x_{1} - x_{1} \\cdot x_{2}}}{\\Gamma\\left ( \\theta \\right )}\n",
    "$$\n",
    "For this simple 2D case, the UNITE toolbox has auxiliary functions to generate samples through rejection sampling. We only need to define the PDF of the function we want to sample and the ranges in which to samples. So:"
   ]
  },
  {
   "cell_type": "code",
   "execution_count": 1,
   "id": "a2f52cc4",
   "metadata": {},
   "outputs": [],
   "source": [
    "import numpy as np\n",
    "from scipy.special import gamma\n",
    "\n",
    "def pdf_gamma_exponential(x, y, theta): return (1 / gamma(theta)) * (x**theta) * np.exp(-x - x*y)\n",
    "gexp_lims = [[0, 15], [0, 12]] # lower and upper limits for each dimension x1 and x2"
   ]
  },
  {
   "cell_type": "markdown",
   "id": "a6c5cd30",
   "metadata": {},
   "source": [
    "Now we generate 10 000 samples of the Gamma-Exponential distribution and plot our samples to confirm. For the specific parameter of the distribution we will use $\\theta=3$."
   ]
  },
  {
   "cell_type": "code",
   "execution_count": 2,
   "id": "ad7b17ed",
   "metadata": {},
   "outputs": [
    {
     "ename": "TypeError",
     "evalue": "pdf_gamma_exponential() got an unexpected keyword argument 'seed'",
     "output_type": "error",
     "traceback": [
      "\u001b[1;31m---------------------------------------------------------------------------\u001b[0m",
      "\u001b[1;31mTypeError\u001b[0m                                 Traceback (most recent call last)",
      "Cell \u001b[1;32mIn[2], line 2\u001b[0m\n\u001b[0;32m      1\u001b[0m \u001b[39mfrom\u001b[39;00m \u001b[39munite_toolbox\u001b[39;00m\u001b[39m.\u001b[39;00m\u001b[39mutils\u001b[39;00m \u001b[39mimport\u001b[39;00m get_samples\n\u001b[1;32m----> 2\u001b[0m samples1 \u001b[39m=\u001b[39m get_samples(func\u001b[39m=\u001b[39;49mpdf_gamma_exponential, limits\u001b[39m=\u001b[39;49mgexp_lims, n_samples\u001b[39m=\u001b[39;49m\u001b[39m10_000\u001b[39;49m, seed\u001b[39m=\u001b[39;49m\u001b[39m0\u001b[39;49m, params\u001b[39m=\u001b[39;49m\u001b[39m3\u001b[39;49m)\n",
      "File \u001b[1;32mc:\\Users\\ac140439\\miniconda3\\envs\\env_sci\\lib\\site-packages\\unite_toolbox\\utils.py:16\u001b[0m, in \u001b[0;36mget_samples\u001b[1;34m(func, limits, n_samples, **kwargs)\u001b[0m\n\u001b[0;32m     13\u001b[0m r \u001b[39m=\u001b[39m np\u001b[39m.\u001b[39mrandom\u001b[39m.\u001b[39muniform(size\u001b[39m=\u001b[39m(\u001b[39mint\u001b[39m(n_samples \u001b[39m/\u001b[39m acc_rate), d))\n\u001b[0;32m     14\u001b[0m r \u001b[39m=\u001b[39m f \u001b[39m+\u001b[39m s \u001b[39m*\u001b[39m r\n\u001b[1;32m---> 16\u001b[0m F \u001b[39m=\u001b[39m func(\u001b[39m*\u001b[39m(np\u001b[39m.\u001b[39mhsplit(r, d)), \u001b[39m*\u001b[39m\u001b[39m*\u001b[39mkwargs)\u001b[39m.\u001b[39mflatten()\n\u001b[0;32m     17\u001b[0m G \u001b[39m=\u001b[39m \u001b[39m1\u001b[39m \u001b[39m/\u001b[39m np\u001b[39m.\u001b[39mprod(s)\n\u001b[0;32m     18\u001b[0m M \u001b[39m=\u001b[39m F\u001b[39m.\u001b[39mmax() \u001b[39m/\u001b[39m G\n",
      "\u001b[1;31mTypeError\u001b[0m: pdf_gamma_exponential() got an unexpected keyword argument 'seed'"
     ]
    }
   ],
   "source": [
    "from unite_toolbox.utils import get_samples\n",
    "samples1 = get_samples(func=pdf_gamma_exponential, limits=gexp_lims, n_samples=10_000, seed=0, params=3)"
   ]
  },
  {
   "cell_type": "code",
   "execution_count": null,
   "id": "a1d14f2e",
   "metadata": {},
   "outputs": [],
   "source": []
  }
 ],
 "metadata": {
  "kernelspec": {
   "display_name": "Python 3 (ipykernel)",
   "language": "python",
   "name": "python3"
  },
  "language_info": {
   "codemirror_mode": {
    "name": "ipython",
    "version": 3
   },
   "file_extension": ".py",
   "mimetype": "text/x-python",
   "name": "python",
   "nbconvert_exporter": "python",
   "pygments_lexer": "ipython3",
   "version": "3.10.12"
  }
 },
 "nbformat": 4,
 "nbformat_minor": 5
}
