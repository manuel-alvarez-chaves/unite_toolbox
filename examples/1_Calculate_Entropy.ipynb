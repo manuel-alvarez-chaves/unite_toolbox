{
 "cells": [
  {
   "cell_type": "code",
   "execution_count": 1,
   "id": "1e726341",
   "metadata": {},
   "outputs": [],
   "source": [
    "import sys\n",
    "sys.path.append('..')"
   ]
  },
  {
   "cell_type": "code",
   "execution_count": 2,
   "id": "7e8d4db8",
   "metadata": {},
   "outputs": [
    {
     "name": "stdout",
     "output_type": "stream",
     "text": [
      "True entropy: 1.000 nats\n",
      "Est. entropy: 1.008 nats\n"
     ]
    }
   ],
   "source": [
    "from scipy import stats\n",
    "from unite_toolbox import knn_estimators\n",
    "\n",
    "dist = stats.norm(loc=0, scale=0.6577)\n",
    "samples = dist.rvs(size=(10_000, 1))\n",
    "\n",
    "est_h = knn_estimators.calc_knn_entropy(samples)\n",
    "\n",
    "print(f\"True entropy: {dist.entropy():.3f} nats\")\n",
    "print(f\"Est. entropy: {est_h:.3f} nats\")"
   ]
  }
 ],
 "metadata": {
  "kernelspec": {
   "display_name": "Python 3 (ipykernel)",
   "language": "python",
   "name": "python3"
  },
  "language_info": {
   "codemirror_mode": {
    "name": "ipython",
    "version": 3
   },
   "file_extension": ".py",
   "mimetype": "text/x-python",
   "name": "python",
   "nbconvert_exporter": "python",
   "pygments_lexer": "ipython3",
   "version": "3.10.12"
  }
 },
 "nbformat": 4,
 "nbformat_minor": 5
}
